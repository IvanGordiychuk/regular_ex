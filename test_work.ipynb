{
 "cells": [
  {
   "cell_type": "code",
   "execution_count": 1,
   "metadata": {},
   "outputs": [],
   "source": [
    "import re"
   ]
  },
  {
   "cell_type": "markdown",
   "metadata": {},
   "source": [
    "### Составить регулярное выражение, извлекающее из текста список чисел со всеми высотами потолков, указанными в тексте:"
   ]
  },
  {
   "cell_type": "code",
   "execution_count": 2,
   "metadata": {},
   "outputs": [],
   "source": [
    "first_string='''Аренда помещения под склад 1 909 м. кв по Волоколамское шоссе, Дедовск в 20 км от МКАД.\n",
    "Возможно деление площади от 900 кв.м. Высота потолков 4.5 м. Полы - антипыль. Доступные\n",
    "ворота в блоке: 2 шт на нулевом уровне. Блок находится на 1 эт. Имеется дополнительное\n",
    "помещение с полотком высотой от 5 до 5.7 метров. Нагрузка на пол 6 т/м2. Отапливаемый,\n",
    "приточно-вытяжная вентиляция, канализация, 1 200 кВт, объект под охраной, бесплатный\n",
    "въезд, газ. Высота ворот 10 м.'''"
   ]
  },
  {
   "cell_type": "markdown",
   "metadata": {},
   "source": [
    "Важно! есть описка: по<b>л</b>о<b>т</b>ком"
   ]
  },
  {
   "cell_type": "code",
   "execution_count": 3,
   "metadata": {},
   "outputs": [
    {
     "data": {
      "text/plain": [
       "['4.5', '5', '5.7']"
      ]
     },
     "execution_count": 3,
     "metadata": {},
     "output_type": "execute_result"
    }
   ],
   "source": [
    "forth=re.findall(r'Высота\\sпотолков\\s([0-9.]+)|полотком\\sвысот\\w+\\s\\w+\\s([0-9.]+)\\s\\w+\\s([0-9.]+)',first_string)\n",
    "high=list(forth[0]+forth[1])\n",
    "high = [i for i in high if i] \n",
    "high"
   ]
  },
  {
   "cell_type": "code",
   "execution_count": 4,
   "metadata": {},
   "outputs": [
    {
     "data": {
      "text/plain": [
       "[('4.5', '', ''), ('', '5', '5.7')]"
      ]
     },
     "execution_count": 4,
     "metadata": {},
     "output_type": "execute_result"
    }
   ],
   "source": [
    "forth=re.findall(r'Высота\\sпотолков\\s([0-9.]+)\\s|полотком\\sвысот\\w+\\s\\w+\\s([0-9.]+)\\s\\w+\\s([0-9.]+)',first_string)\n",
    "forth"
   ]
  },
  {
   "cell_type": "markdown",
   "metadata": {},
   "source": [
    "#### Составить регулярное выражение, извлекающее из текста список слов, начинающихся на букву «п» (заглавную или прописную):"
   ]
  },
  {
   "cell_type": "code",
   "execution_count": 5,
   "metadata": {},
   "outputs": [],
   "source": [
    "second_string='''Продам участок, (ИЖС), в черте города Пермь. Все коммуникации по меже.Площадь 3 сотки.'''"
   ]
  },
  {
   "cell_type": "code",
   "execution_count": 6,
   "metadata": {},
   "outputs": [
    {
     "data": {
      "text/plain": [
       "['Продам', 'Пермь', 'по', 'Площадь']"
      ]
     },
     "execution_count": 6,
     "metadata": {},
     "output_type": "execute_result"
    }
   ],
   "source": [
    "fifth=re.findall('[Пп]\\w+',second_string)\n",
    "fifth"
   ]
  },
  {
   "cell_type": "markdown",
   "metadata": {},
   "source": [
    "#### Средствами Python вывести список элементов, которые есть в списке «а» и которых нет в списке «b»:"
   ]
  },
  {
   "cell_type": "code",
   "execution_count": 7,
   "metadata": {},
   "outputs": [],
   "source": [
    "a = [1, 2, 3, 5, 17]\n",
    "b = [0, 3, 5, 98]"
   ]
  }
 ],
 "metadata": {
  "kernelspec": {
   "display_name": "Python 3",
   "language": "python",
   "name": "python3"
  },
  "language_info": {
   "codemirror_mode": {
    "name": "ipython",
    "version": 3
   },
   "file_extension": ".py",
   "mimetype": "text/x-python",
   "name": "python",
   "nbconvert_exporter": "python",
   "pygments_lexer": "ipython3",
   "version": "3.7.1"
  }
 },
 "nbformat": 4,
 "nbformat_minor": 2
}
